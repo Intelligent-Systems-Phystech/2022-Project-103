{
 "cells": [
  {
   "cell_type": "code",
   "execution_count": 61,
   "id": "990da5e3",
   "metadata": {},
   "outputs": [],
   "source": [
    "import os\n",
    "import pandas as pd\n",
    "import re\n",
    "import numpy as np\n",
    "import matplotlib.pyplot as plt\n",
    "import warnings\n",
    "warnings.filterwarnings('ignore')\n",
    "from Bio.PDB import PDBParser\n",
    "\n",
    "from catboost import CatBoostRegressor\n",
    "\n",
    "from tqdm import tqdm"
   ]
  },
  {
   "cell_type": "markdown",
   "id": "cea17153",
   "metadata": {},
   "source": [
    "# Parse PDBbind index"
   ]
  },
  {
   "cell_type": "code",
   "execution_count": 3,
   "id": "a85a88b1",
   "metadata": {},
   "outputs": [
    {
     "name": "stderr",
     "output_type": "stream",
     "text": [
      "100%|████████████████████████████████████| 2858/2858 [00:00<00:00, 93456.00it/s]\n"
     ]
    }
   ],
   "source": [
    "data = {\n",
    "    'pdb': [],\n",
    "    'resolution': [],\n",
    "    'year': [],\n",
    "    'target': [],\n",
    "    'value': [],\n",
    "    'unit': [],\n",
    "    'precision': []\n",
    "}\n",
    "\n",
    "with open('PP/index/INDEX_general_PP.2020') as f:\n",
    "    for line in tqdm(f.readlines()):\n",
    "        if not line.startswith('#'):\n",
    "            parts = line.strip().split()\n",
    "            pdb = parts[0]\n",
    "            resolution = 0 if parts[1] == 'NMR' else float(parts[1])\n",
    "            year = int(parts[2])\n",
    "            \n",
    "            if '=' in parts[3]:\n",
    "                sep = '='\n",
    "            elif '~' in parts[3]:\n",
    "                sep = '~'\n",
    "            elif '<' in parts[3]:\n",
    "                sep = '<'\n",
    "            elif '>' in parts[3]:\n",
    "                sep = '>'\n",
    "            elif '<=' in parts[3]:\n",
    "                sep = '<='\n",
    "            elif '=<' in parts[3]:\n",
    "                sep = '=<'\n",
    "            elif '>=' in parts[3]:\n",
    "                sep = '>='\n",
    "            elif '=>' in parts[3]:\n",
    "                sep = '=>'\n",
    "                \n",
    "            target, value_unit =  parts[3].split(sep)\n",
    "\n",
    "            values = re.findall(r'\\d+', value_unit)\n",
    "            if len(values) == 1:\n",
    "                value = float(values[0])\n",
    "            elif len(values) == 2:\n",
    "                value = float('.'.join(values))\n",
    "            \n",
    "            unit = re.sub(r'[^a-zA-Z]', '', value_unit)\n",
    "            \n",
    "            data['pdb'].append(pdb)\n",
    "            data['resolution'].append(resolution)\n",
    "            data['year'].append(year)\n",
    "            data['target'].append(target)\n",
    "            data['value'].append(value)\n",
    "            data['unit'].append(unit)\n",
    "            data['precision'].append(sep)\n",
    "            \n",
    "data = pd.DataFrame(data)"
   ]
  },
  {
   "cell_type": "code",
   "execution_count": 4,
   "id": "508610b5",
   "metadata": {},
   "outputs": [
    {
     "data": {
      "text/html": [
       "<div>\n",
       "<style scoped>\n",
       "    .dataframe tbody tr th:only-of-type {\n",
       "        vertical-align: middle;\n",
       "    }\n",
       "\n",
       "    .dataframe tbody tr th {\n",
       "        vertical-align: top;\n",
       "    }\n",
       "\n",
       "    .dataframe thead th {\n",
       "        text-align: right;\n",
       "    }\n",
       "</style>\n",
       "<table border=\"1\" class=\"dataframe\">\n",
       "  <thead>\n",
       "    <tr style=\"text-align: right;\">\n",
       "      <th></th>\n",
       "      <th>pdb</th>\n",
       "      <th>resolution</th>\n",
       "      <th>year</th>\n",
       "      <th>target</th>\n",
       "      <th>value</th>\n",
       "      <th>unit</th>\n",
       "      <th>precision</th>\n",
       "    </tr>\n",
       "  </thead>\n",
       "  <tbody>\n",
       "    <tr>\n",
       "      <th>0</th>\n",
       "      <td>1fc2</td>\n",
       "      <td>2.80</td>\n",
       "      <td>1981</td>\n",
       "      <td>Kd</td>\n",
       "      <td>22.5</td>\n",
       "      <td>nM</td>\n",
       "      <td>=</td>\n",
       "    </tr>\n",
       "    <tr>\n",
       "      <th>1</th>\n",
       "      <td>3sgb</td>\n",
       "      <td>1.80</td>\n",
       "      <td>1983</td>\n",
       "      <td>Kd</td>\n",
       "      <td>17.9</td>\n",
       "      <td>pM</td>\n",
       "      <td>=</td>\n",
       "    </tr>\n",
       "    <tr>\n",
       "      <th>2</th>\n",
       "      <td>2tgp</td>\n",
       "      <td>1.90</td>\n",
       "      <td>1983</td>\n",
       "      <td>Kd</td>\n",
       "      <td>2.4</td>\n",
       "      <td>uM</td>\n",
       "      <td>=</td>\n",
       "    </tr>\n",
       "    <tr>\n",
       "      <th>3</th>\n",
       "      <td>2ptc</td>\n",
       "      <td>1.90</td>\n",
       "      <td>1983</td>\n",
       "      <td>Kd</td>\n",
       "      <td>60.0</td>\n",
       "      <td>fM</td>\n",
       "      <td>=</td>\n",
       "    </tr>\n",
       "    <tr>\n",
       "      <th>4</th>\n",
       "      <td>2sni</td>\n",
       "      <td>2.10</td>\n",
       "      <td>1988</td>\n",
       "      <td>Kd</td>\n",
       "      <td>2.0</td>\n",
       "      <td>pM</td>\n",
       "      <td>=</td>\n",
       "    </tr>\n",
       "    <tr>\n",
       "      <th>...</th>\n",
       "      <td>...</td>\n",
       "      <td>...</td>\n",
       "      <td>...</td>\n",
       "      <td>...</td>\n",
       "      <td>...</td>\n",
       "      <td>...</td>\n",
       "      <td>...</td>\n",
       "    </tr>\n",
       "    <tr>\n",
       "      <th>2847</th>\n",
       "      <td>6bx8</td>\n",
       "      <td>1.98</td>\n",
       "      <td>2019</td>\n",
       "      <td>Ki</td>\n",
       "      <td>0.2</td>\n",
       "      <td>uM</td>\n",
       "      <td>=</td>\n",
       "    </tr>\n",
       "    <tr>\n",
       "      <th>2848</th>\n",
       "      <td>6dwf</td>\n",
       "      <td>1.94</td>\n",
       "      <td>2019</td>\n",
       "      <td>Ki</td>\n",
       "      <td>1.3</td>\n",
       "      <td>nM</td>\n",
       "      <td>=</td>\n",
       "    </tr>\n",
       "    <tr>\n",
       "      <th>2849</th>\n",
       "      <td>6n9d</td>\n",
       "      <td>2.67</td>\n",
       "      <td>2019</td>\n",
       "      <td>Ki</td>\n",
       "      <td>17.8</td>\n",
       "      <td>pM</td>\n",
       "      <td>=</td>\n",
       "    </tr>\n",
       "    <tr>\n",
       "      <th>2850</th>\n",
       "      <td>6mav</td>\n",
       "      <td>2.37</td>\n",
       "      <td>2019</td>\n",
       "      <td>Ki</td>\n",
       "      <td>33.5</td>\n",
       "      <td>pM</td>\n",
       "      <td>=</td>\n",
       "    </tr>\n",
       "    <tr>\n",
       "      <th>2851</th>\n",
       "      <td>6har</td>\n",
       "      <td>1.50</td>\n",
       "      <td>2019</td>\n",
       "      <td>Ki</td>\n",
       "      <td>61.0</td>\n",
       "      <td>pM</td>\n",
       "      <td>=</td>\n",
       "    </tr>\n",
       "  </tbody>\n",
       "</table>\n",
       "<p>2852 rows × 7 columns</p>\n",
       "</div>"
      ],
      "text/plain": [
       "       pdb  resolution  year target  value unit precision\n",
       "0     1fc2        2.80  1981     Kd   22.5   nM         =\n",
       "1     3sgb        1.80  1983     Kd   17.9   pM         =\n",
       "2     2tgp        1.90  1983     Kd    2.4   uM         =\n",
       "3     2ptc        1.90  1983     Kd   60.0   fM         =\n",
       "4     2sni        2.10  1988     Kd    2.0   pM         =\n",
       "...    ...         ...   ...    ...    ...  ...       ...\n",
       "2847  6bx8        1.98  2019     Ki    0.2   uM         =\n",
       "2848  6dwf        1.94  2019     Ki    1.3   nM         =\n",
       "2849  6n9d        2.67  2019     Ki   17.8   pM         =\n",
       "2850  6mav        2.37  2019     Ki   33.5   pM         =\n",
       "2851  6har        1.50  2019     Ki   61.0   pM         =\n",
       "\n",
       "[2852 rows x 7 columns]"
      ]
     },
     "execution_count": 4,
     "metadata": {},
     "output_type": "execute_result"
    }
   ],
   "source": [
    "data"
   ]
  },
  {
   "cell_type": "code",
   "execution_count": 5,
   "id": "82ba14b9",
   "metadata": {},
   "outputs": [
    {
     "data": {
      "text/plain": [
       "Kd      2618\n",
       "Ki       171\n",
       "IC50      63\n",
       "Name: target, dtype: int64"
      ]
     },
     "execution_count": 5,
     "metadata": {},
     "output_type": "execute_result"
    }
   ],
   "source": [
    "data['target'].value_counts()"
   ]
  },
  {
   "cell_type": "code",
   "execution_count": 6,
   "id": "811ea4f1",
   "metadata": {},
   "outputs": [
    {
     "data": {
      "text/plain": [
       "nM    1567\n",
       "uM    1049\n",
       "pM     200\n",
       "mM      22\n",
       "fM      14\n",
       "Name: unit, dtype: int64"
      ]
     },
     "execution_count": 6,
     "metadata": {},
     "output_type": "execute_result"
    }
   ],
   "source": [
    "data['unit'].value_counts()"
   ]
  },
  {
   "cell_type": "code",
   "execution_count": 7,
   "id": "c3b36efd",
   "metadata": {},
   "outputs": [
    {
     "data": {
      "text/plain": [
       "=    2751\n",
       "~      65\n",
       "<      20\n",
       ">      16\n",
       "Name: precision, dtype: int64"
      ]
     },
     "execution_count": 7,
     "metadata": {},
     "output_type": "execute_result"
    }
   ],
   "source": [
    "data['precision'].value_counts()"
   ]
  },
  {
   "cell_type": "code",
   "execution_count": 8,
   "id": "d906ed9a",
   "metadata": {},
   "outputs": [
    {
     "data": {
      "text/plain": [
       "2588"
      ]
     },
     "execution_count": 8,
     "metadata": {},
     "output_type": "execute_result"
    }
   ],
   "source": [
    "len(data[(data['target'] == 'Kd') & (data['precision'].isin(['=', '~']))])"
   ]
  },
  {
   "cell_type": "code",
   "execution_count": 9,
   "id": "c9908757",
   "metadata": {},
   "outputs": [],
   "source": [
    "unit2coeff = {\n",
    "    'mM': 10e-3,\n",
    "    'uM': 10e-6,\n",
    "    'nM': 10e-9,\n",
    "    'pM': 10e-12,\n",
    "    'fM': 10e-15,\n",
    "}\n",
    "\n",
    "data['coefficient'] = data['unit'].map(unit2coeff)\n",
    "data['logM'] = np.log10(data['value'] * data['coefficient'])"
   ]
  },
  {
   "cell_type": "code",
   "execution_count": 10,
   "id": "fafdf84b",
   "metadata": {},
   "outputs": [
    {
     "data": {
      "image/png": "[encoded data removed]",
      "text/plain": [
       "<Figure size 1080x648 with 1 Axes>"
      ]
     },
     "metadata": {
      "needs_background": "light"
     },
     "output_type": "display_data"
    }
   ],
   "source": [
    "plt.figure(figsize=(15, 9))\n",
    "plt.hist(data[(data['target'] == 'Kd') & (data['precision'].isin(['=', '~']))]['logM'], bins=100)\n",
    "plt.title('log10(Kd) distribution')\n",
    "plt.xlabel('log10(Kd), [M]')\n",
    "\n",
    "plt.show()"
   ]
  },
  {
   "cell_type": "code",
   "execution_count": 11,
   "id": "8c39d6c2",
   "metadata": {},
   "outputs": [
    {
     "data": {
      "text/html": [
       "<div>\n",
       "<style scoped>\n",
       "    .dataframe tbody tr th:only-of-type {\n",
       "        vertical-align: middle;\n",
       "    }\n",
       "\n",
       "    .dataframe tbody tr th {\n",
       "        vertical-align: top;\n",
       "    }\n",
       "\n",
       "    .dataframe thead th {\n",
       "        text-align: right;\n",
       "    }\n",
       "</style>\n",
       "<table border=\"1\" class=\"dataframe\">\n",
       "  <thead>\n",
       "    <tr style=\"text-align: right;\">\n",
       "      <th></th>\n",
       "      <th>pdb</th>\n",
       "      <th>resolution</th>\n",
       "      <th>year</th>\n",
       "      <th>target</th>\n",
       "      <th>value</th>\n",
       "      <th>unit</th>\n",
       "      <th>precision</th>\n",
       "      <th>coefficient</th>\n",
       "      <th>logM</th>\n",
       "    </tr>\n",
       "  </thead>\n",
       "  <tbody>\n",
       "    <tr>\n",
       "      <th>0</th>\n",
       "      <td>1fc2</td>\n",
       "      <td>2.80</td>\n",
       "      <td>1981</td>\n",
       "      <td>Kd</td>\n",
       "      <td>22.50</td>\n",
       "      <td>nM</td>\n",
       "      <td>=</td>\n",
       "      <td>1.000000e-08</td>\n",
       "      <td>-6.647817</td>\n",
       "    </tr>\n",
       "    <tr>\n",
       "      <th>1</th>\n",
       "      <td>3sgb</td>\n",
       "      <td>1.80</td>\n",
       "      <td>1983</td>\n",
       "      <td>Kd</td>\n",
       "      <td>17.90</td>\n",
       "      <td>pM</td>\n",
       "      <td>=</td>\n",
       "      <td>1.000000e-11</td>\n",
       "      <td>-9.747147</td>\n",
       "    </tr>\n",
       "    <tr>\n",
       "      <th>2</th>\n",
       "      <td>2tgp</td>\n",
       "      <td>1.90</td>\n",
       "      <td>1983</td>\n",
       "      <td>Kd</td>\n",
       "      <td>2.40</td>\n",
       "      <td>uM</td>\n",
       "      <td>=</td>\n",
       "      <td>1.000000e-05</td>\n",
       "      <td>-4.619789</td>\n",
       "    </tr>\n",
       "    <tr>\n",
       "      <th>3</th>\n",
       "      <td>2ptc</td>\n",
       "      <td>1.90</td>\n",
       "      <td>1983</td>\n",
       "      <td>Kd</td>\n",
       "      <td>60.00</td>\n",
       "      <td>fM</td>\n",
       "      <td>=</td>\n",
       "      <td>1.000000e-14</td>\n",
       "      <td>-12.221849</td>\n",
       "    </tr>\n",
       "    <tr>\n",
       "      <th>4</th>\n",
       "      <td>2sni</td>\n",
       "      <td>2.10</td>\n",
       "      <td>1988</td>\n",
       "      <td>Kd</td>\n",
       "      <td>2.00</td>\n",
       "      <td>pM</td>\n",
       "      <td>=</td>\n",
       "      <td>1.000000e-11</td>\n",
       "      <td>-10.698970</td>\n",
       "    </tr>\n",
       "    <tr>\n",
       "      <th>...</th>\n",
       "      <td>...</td>\n",
       "      <td>...</td>\n",
       "      <td>...</td>\n",
       "      <td>...</td>\n",
       "      <td>...</td>\n",
       "      <td>...</td>\n",
       "      <td>...</td>\n",
       "      <td>...</td>\n",
       "      <td>...</td>\n",
       "    </tr>\n",
       "    <tr>\n",
       "      <th>2839</th>\n",
       "      <td>6pdx</td>\n",
       "      <td>3.99</td>\n",
       "      <td>2019</td>\n",
       "      <td>Kd</td>\n",
       "      <td>9.74</td>\n",
       "      <td>pM</td>\n",
       "      <td>=</td>\n",
       "      <td>1.000000e-11</td>\n",
       "      <td>-10.011441</td>\n",
       "    </tr>\n",
       "    <tr>\n",
       "      <th>2840</th>\n",
       "      <td>6ivz</td>\n",
       "      <td>2.40</td>\n",
       "      <td>2019</td>\n",
       "      <td>Kd</td>\n",
       "      <td>9.70</td>\n",
       "      <td>nM</td>\n",
       "      <td>=</td>\n",
       "      <td>1.000000e-08</td>\n",
       "      <td>-7.013228</td>\n",
       "    </tr>\n",
       "    <tr>\n",
       "      <th>2841</th>\n",
       "      <td>6ib8</td>\n",
       "      <td>1.65</td>\n",
       "      <td>2019</td>\n",
       "      <td>Kd</td>\n",
       "      <td>94.00</td>\n",
       "      <td>nM</td>\n",
       "      <td>=</td>\n",
       "      <td>1.000000e-08</td>\n",
       "      <td>-6.026872</td>\n",
       "    </tr>\n",
       "    <tr>\n",
       "      <th>2842</th>\n",
       "      <td>6oqj</td>\n",
       "      <td>0.00</td>\n",
       "      <td>2019</td>\n",
       "      <td>Kd</td>\n",
       "      <td>9.00</td>\n",
       "      <td>nM</td>\n",
       "      <td>=</td>\n",
       "      <td>1.000000e-08</td>\n",
       "      <td>-7.045757</td>\n",
       "    </tr>\n",
       "    <tr>\n",
       "      <th>2843</th>\n",
       "      <td>6uda</td>\n",
       "      <td>4.20</td>\n",
       "      <td>2019</td>\n",
       "      <td>Kd</td>\n",
       "      <td>9.00</td>\n",
       "      <td>nM</td>\n",
       "      <td>=</td>\n",
       "      <td>1.000000e-08</td>\n",
       "      <td>-7.045757</td>\n",
       "    </tr>\n",
       "  </tbody>\n",
       "</table>\n",
       "<p>2618 rows × 9 columns</p>\n",
       "</div>"
      ],
      "text/plain": [
       "       pdb  resolution  year target  value unit precision   coefficient  \\\n",
       "0     1fc2        2.80  1981     Kd  22.50   nM         =  1.000000e-08   \n",
       "1     3sgb        1.80  1983     Kd  17.90   pM         =  1.000000e-11   \n",
       "2     2tgp        1.90  1983     Kd   2.40   uM         =  1.000000e-05   \n",
       "3     2ptc        1.90  1983     Kd  60.00   fM         =  1.000000e-14   \n",
       "4     2sni        2.10  1988     Kd   2.00   pM         =  1.000000e-11   \n",
       "...    ...         ...   ...    ...    ...  ...       ...           ...   \n",
       "2839  6pdx        3.99  2019     Kd   9.74   pM         =  1.000000e-11   \n",
       "2840  6ivz        2.40  2019     Kd   9.70   nM         =  1.000000e-08   \n",
       "2841  6ib8        1.65  2019     Kd  94.00   nM         =  1.000000e-08   \n",
       "2842  6oqj        0.00  2019     Kd   9.00   nM         =  1.000000e-08   \n",
       "2843  6uda        4.20  2019     Kd   9.00   nM         =  1.000000e-08   \n",
       "\n",
       "           logM  \n",
       "0     -6.647817  \n",
       "1     -9.747147  \n",
       "2     -4.619789  \n",
       "3    -12.221849  \n",
       "4    -10.698970  \n",
       "...         ...  \n",
       "2839 -10.011441  \n",
       "2840  -7.013228  \n",
       "2841  -6.026872  \n",
       "2842  -7.045757  \n",
       "2843  -7.045757  \n",
       "\n",
       "[2618 rows x 9 columns]"
      ]
     },
     "execution_count": 11,
     "metadata": {},
     "output_type": "execute_result"
    }
   ],
   "source": [
    "data[data['target']=='Kd']"
   ]
  },
  {
   "cell_type": "markdown",
   "id": "2903ee8d",
   "metadata": {},
   "source": [
    "# Compute number of chains"
   ]
  },
  {
   "cell_type": "code",
   "execution_count": 16,
   "id": "854c4400",
   "metadata": {},
   "outputs": [
    {
     "name": "stderr",
     "output_type": "stream",
     "text": [
      "100%|███████████████████████████████████████| 2854/2854 [12:40<00:00,  3.75it/s]\n"
     ]
    }
   ],
   "source": [
    "# DONE in separate script on cluster\n",
    "\n",
    "import os\n",
    "import pickle\n",
    "import warnings\n",
    "warnings.filterwarnings('ignore')\n",
    "\n",
    "from Bio.PDB import PDBParser\n",
    "from tqdm import tqdm\n",
    "\n",
    "pdb2chains = {}\n",
    "\n",
    "pdbs_path = 'work/binding_affinity/pdbbind_protein_protein/pdb_clean_only'\n",
    "pdbs_path = 'PP'\n",
    "\n",
    "parser = PDBParser()\n",
    "\n",
    "for fname in tqdm(os.listdir(pdbs_path)):\n",
    "    if fname.endswith('ent.pdb'):\n",
    "        pdb = fname.split('.')[0]\n",
    "        path = os.path.join(pdbs_path, fname)\n",
    "        struct = parser.get_structure('s', path)\n",
    "        pdb2chains[pdb] = ','.join([c.id for c in struct.get_chains()])\n",
    "        \n",
    "pickle.dump(pdb2chains, open('pdb2chains.pkl', 'wb'))"
   ]
  },
  {
   "cell_type": "code",
   "execution_count": 12,
   "id": "df3f1fb5",
   "metadata": {},
   "outputs": [],
   "source": [
    "import pickle\n",
    "\n",
    "pdb2chains = pickle.load(open('pdb2chains.pkl', 'rb'))"
   ]
  },
  {
   "cell_type": "code",
   "execution_count": 13,
   "id": "f9f42b8b",
   "metadata": {},
   "outputs": [],
   "source": [
    "data['chains'] = data['pdb'].map(pdb2chains)\n",
    "data['number_of_chains'] = data['chains'].str.split(',').str.len()"
   ]
  },
  {
   "cell_type": "code",
   "execution_count": 14,
   "id": "8d8a8b7d",
   "metadata": {},
   "outputs": [
    {
     "data": {
      "text/plain": [
       "2      737\n",
       "4      613\n",
       "3      384\n",
       "6      327\n",
       "8      173\n",
       "5      128\n",
       "12      88\n",
       "40      85\n",
       "10      60\n",
       "20      46\n",
       "7       28\n",
       "9       25\n",
       "16      20\n",
       "60      15\n",
       "24      13\n",
       "30      12\n",
       "15      12\n",
       "80       9\n",
       "18       8\n",
       "11       7\n",
       "36       6\n",
       "21       6\n",
       "50       4\n",
       "160      4\n",
       "13       4\n",
       "22       3\n",
       "42       3\n",
       "32       2\n",
       "27       2\n",
       "14       2\n",
       "120      2\n",
       "28       2\n",
       "72       2\n",
       "17       2\n",
       "26       1\n",
       "48       1\n",
       "23       1\n",
       "34       1\n",
       "39       1\n",
       "1        1\n",
       "256      1\n",
       "25       1\n",
       "102      1\n",
       "100      1\n",
       "90       1\n",
       "38       1\n",
       "56       1\n",
       "45       1\n",
       "19       1\n",
       "29       1\n",
       "64       1\n",
       "33       1\n",
       "Name: number_of_chains, dtype: int64"
      ]
     },
     "execution_count": 14,
     "metadata": {},
     "output_type": "execute_result"
    }
   ],
   "source": [
    "data.number_of_chains.value_counts()"
   ]
  },
  {
   "cell_type": "code",
   "execution_count": 21,
   "id": "08f94037",
   "metadata": {},
   "outputs": [],
   "source": [
    "data.to_csv('pdbbind_pp_summary.csv', index=False)"
   ]
  },
  {
   "cell_type": "code",
   "execution_count": 22,
   "id": "ef94790c",
   "metadata": {},
   "outputs": [
    {
     "data": {
      "text/plain": [
       "2852"
      ]
     },
     "execution_count": 22,
     "metadata": {},
     "output_type": "execute_result"
    }
   ],
   "source": [
    "len(data)"
   ]
  },
  {
   "cell_type": "code",
   "execution_count": 23,
   "id": "1a987951",
   "metadata": {},
   "outputs": [
    {
     "data": {
      "text/html": [
       "<div>\n",
       "<style scoped>\n",
       "    .dataframe tbody tr th:only-of-type {\n",
       "        vertical-align: middle;\n",
       "    }\n",
       "\n",
       "    .dataframe tbody tr th {\n",
       "        vertical-align: top;\n",
       "    }\n",
       "\n",
       "    .dataframe thead th {\n",
       "        text-align: right;\n",
       "    }\n",
       "</style>\n",
       "<table border=\"1\" class=\"dataframe\">\n",
       "  <thead>\n",
       "    <tr style=\"text-align: right;\">\n",
       "      <th></th>\n",
       "      <th>pdb</th>\n",
       "      <th>resolution</th>\n",
       "      <th>year</th>\n",
       "      <th>target</th>\n",
       "      <th>value</th>\n",
       "      <th>unit</th>\n",
       "      <th>precision</th>\n",
       "      <th>coefficient</th>\n",
       "      <th>logM</th>\n",
       "      <th>chains</th>\n",
       "      <th>number_of_chains</th>\n",
       "    </tr>\n",
       "  </thead>\n",
       "  <tbody>\n",
       "    <tr>\n",
       "      <th>18</th>\n",
       "      <td>2mta</td>\n",
       "      <td>2.4</td>\n",
       "      <td>1994</td>\n",
       "      <td>Kd</td>\n",
       "      <td>4.5</td>\n",
       "      <td>uM</td>\n",
       "      <td>=</td>\n",
       "      <td>0.00001</td>\n",
       "      <td>-4.346787</td>\n",
       "      <td>H,L,A,C</td>\n",
       "      <td>4</td>\n",
       "    </tr>\n",
       "  </tbody>\n",
       "</table>\n",
       "</div>"
      ],
      "text/plain": [
       "     pdb  resolution  year target  value unit precision  coefficient  \\\n",
       "18  2mta         2.4  1994     Kd    4.5   uM         =      0.00001   \n",
       "\n",
       "        logM   chains  number_of_chains  \n",
       "18 -4.346787  H,L,A,C                 4  "
      ]
     },
     "execution_count": 23,
     "metadata": {},
     "output_type": "execute_result"
    }
   ],
   "source": [
    "data[data.pdb == '2mta']"
   ]
  },
  {
   "cell_type": "code",
   "execution_count": 78,
   "id": "88d9704f",
   "metadata": {},
   "outputs": [
    {
     "data": {
      "text/plain": [
       "pdb                 False\n",
       "resolution          False\n",
       "year                False\n",
       "target              False\n",
       "value               False\n",
       "unit                False\n",
       "precision           False\n",
       "coefficient         False\n",
       "logM                False\n",
       "chains              False\n",
       "number_of_chains    False\n",
       "dtype: bool"
      ]
     },
     "execution_count": 78,
     "metadata": {},
     "output_type": "execute_result"
    }
   ],
   "source": [
    "data.isna().any()"
   ]
  },
  {
   "cell_type": "code",
   "execution_count": 24,
   "id": "0c1a6c18",
   "metadata": {},
   "outputs": [
    {
     "data": {
      "text/html": [
       "<div>\n",
       "<style scoped>\n",
       "    .dataframe tbody tr th:only-of-type {\n",
       "        vertical-align: middle;\n",
       "    }\n",
       "\n",
       "    .dataframe tbody tr th {\n",
       "        vertical-align: top;\n",
       "    }\n",
       "\n",
       "    .dataframe thead th {\n",
       "        text-align: right;\n",
       "    }\n",
       "</style>\n",
       "<table border=\"1\" class=\"dataframe\">\n",
       "  <thead>\n",
       "    <tr style=\"text-align: right;\">\n",
       "      <th></th>\n",
       "      <th>pdb</th>\n",
       "      <th>resolution</th>\n",
       "      <th>year</th>\n",
       "      <th>target</th>\n",
       "      <th>value</th>\n",
       "      <th>unit</th>\n",
       "      <th>precision</th>\n",
       "      <th>coefficient</th>\n",
       "      <th>logM</th>\n",
       "      <th>chains</th>\n",
       "      <th>number_of_chains</th>\n",
       "    </tr>\n",
       "  </thead>\n",
       "  <tbody>\n",
       "    <tr>\n",
       "      <th>13</th>\n",
       "      <td>1brs</td>\n",
       "      <td>2.00</td>\n",
       "      <td>1994</td>\n",
       "      <td>Kd</td>\n",
       "      <td>13.00</td>\n",
       "      <td>fM</td>\n",
       "      <td>=</td>\n",
       "      <td>1.000000e-14</td>\n",
       "      <td>-12.886057</td>\n",
       "      <td>A,B,C,D,E,F</td>\n",
       "      <td>6</td>\n",
       "    </tr>\n",
       "    <tr>\n",
       "      <th>25</th>\n",
       "      <td>1mlc</td>\n",
       "      <td>2.50</td>\n",
       "      <td>1995</td>\n",
       "      <td>Kd</td>\n",
       "      <td>91.00</td>\n",
       "      <td>nM</td>\n",
       "      <td>=</td>\n",
       "      <td>1.000000e-08</td>\n",
       "      <td>-6.040959</td>\n",
       "      <td>A,B,C,D,E,F</td>\n",
       "      <td>6</td>\n",
       "    </tr>\n",
       "    <tr>\n",
       "      <th>26</th>\n",
       "      <td>1rlb</td>\n",
       "      <td>3.10</td>\n",
       "      <td>1996</td>\n",
       "      <td>Kd</td>\n",
       "      <td>0.80</td>\n",
       "      <td>uM</td>\n",
       "      <td>=</td>\n",
       "      <td>1.000000e-05</td>\n",
       "      <td>-5.096910</td>\n",
       "      <td>A,B,C,D,E,F</td>\n",
       "      <td>6</td>\n",
       "    </tr>\n",
       "    <tr>\n",
       "      <th>28</th>\n",
       "      <td>1mtn</td>\n",
       "      <td>2.80</td>\n",
       "      <td>1996</td>\n",
       "      <td>Kd</td>\n",
       "      <td>9.50</td>\n",
       "      <td>nM</td>\n",
       "      <td>=</td>\n",
       "      <td>1.000000e-08</td>\n",
       "      <td>-7.022276</td>\n",
       "      <td>A,B,C,D,E,F,G,H</td>\n",
       "      <td>8</td>\n",
       "    </tr>\n",
       "    <tr>\n",
       "      <th>29</th>\n",
       "      <td>1tbr</td>\n",
       "      <td>2.60</td>\n",
       "      <td>1996</td>\n",
       "      <td>Ki</td>\n",
       "      <td>0.20</td>\n",
       "      <td>pM</td>\n",
       "      <td>=</td>\n",
       "      <td>1.000000e-11</td>\n",
       "      <td>-11.698970</td>\n",
       "      <td>L,H,J,K,R,S</td>\n",
       "      <td>6</td>\n",
       "    </tr>\n",
       "    <tr>\n",
       "      <th>...</th>\n",
       "      <td>...</td>\n",
       "      <td>...</td>\n",
       "      <td>...</td>\n",
       "      <td>...</td>\n",
       "      <td>...</td>\n",
       "      <td>...</td>\n",
       "      <td>...</td>\n",
       "      <td>...</td>\n",
       "      <td>...</td>\n",
       "      <td>...</td>\n",
       "      <td>...</td>\n",
       "    </tr>\n",
       "    <tr>\n",
       "      <th>2844</th>\n",
       "      <td>6saz</td>\n",
       "      <td>3.00</td>\n",
       "      <td>2019</td>\n",
       "      <td>Ki</td>\n",
       "      <td>0.14</td>\n",
       "      <td>nM</td>\n",
       "      <td>=</td>\n",
       "      <td>1.000000e-08</td>\n",
       "      <td>-8.853872</td>\n",
       "      <td>A,B,C,D,E,F,G</td>\n",
       "      <td>7</td>\n",
       "    </tr>\n",
       "    <tr>\n",
       "      <th>2845</th>\n",
       "      <td>6ht9</td>\n",
       "      <td>3.10</td>\n",
       "      <td>2019</td>\n",
       "      <td>Ki</td>\n",
       "      <td>0.10</td>\n",
       "      <td>nM</td>\n",
       "      <td>=</td>\n",
       "      <td>1.000000e-08</td>\n",
       "      <td>-9.000000</td>\n",
       "      <td>A,B,C,D,E</td>\n",
       "      <td>5</td>\n",
       "    </tr>\n",
       "    <tr>\n",
       "      <th>2846</th>\n",
       "      <td>6dwh</td>\n",
       "      <td>2.00</td>\n",
       "      <td>2019</td>\n",
       "      <td>Ki</td>\n",
       "      <td>0.20</td>\n",
       "      <td>nM</td>\n",
       "      <td>=</td>\n",
       "      <td>1.000000e-08</td>\n",
       "      <td>-8.698970</td>\n",
       "      <td>A,G,B,C,D,E,F,H,I,J,K,L</td>\n",
       "      <td>12</td>\n",
       "    </tr>\n",
       "    <tr>\n",
       "      <th>2847</th>\n",
       "      <td>6bx8</td>\n",
       "      <td>1.98</td>\n",
       "      <td>2019</td>\n",
       "      <td>Ki</td>\n",
       "      <td>0.20</td>\n",
       "      <td>uM</td>\n",
       "      <td>=</td>\n",
       "      <td>1.000000e-05</td>\n",
       "      <td>-5.698970</td>\n",
       "      <td>A,B,C,D,E,F,G,H</td>\n",
       "      <td>8</td>\n",
       "    </tr>\n",
       "    <tr>\n",
       "      <th>2848</th>\n",
       "      <td>6dwf</td>\n",
       "      <td>1.94</td>\n",
       "      <td>2019</td>\n",
       "      <td>Ki</td>\n",
       "      <td>1.30</td>\n",
       "      <td>nM</td>\n",
       "      <td>=</td>\n",
       "      <td>1.000000e-08</td>\n",
       "      <td>-7.886057</td>\n",
       "      <td>A,G,B,C,D,E,F,H,I,J,K,L</td>\n",
       "      <td>12</td>\n",
       "    </tr>\n",
       "  </tbody>\n",
       "</table>\n",
       "<p>1117 rows × 11 columns</p>\n",
       "</div>"
      ],
      "text/plain": [
       "       pdb  resolution  year target  value unit precision   coefficient  \\\n",
       "13    1brs        2.00  1994     Kd  13.00   fM         =  1.000000e-14   \n",
       "25    1mlc        2.50  1995     Kd  91.00   nM         =  1.000000e-08   \n",
       "26    1rlb        3.10  1996     Kd   0.80   uM         =  1.000000e-05   \n",
       "28    1mtn        2.80  1996     Kd   9.50   nM         =  1.000000e-08   \n",
       "29    1tbr        2.60  1996     Ki   0.20   pM         =  1.000000e-11   \n",
       "...    ...         ...   ...    ...    ...  ...       ...           ...   \n",
       "2844  6saz        3.00  2019     Ki   0.14   nM         =  1.000000e-08   \n",
       "2845  6ht9        3.10  2019     Ki   0.10   nM         =  1.000000e-08   \n",
       "2846  6dwh        2.00  2019     Ki   0.20   nM         =  1.000000e-08   \n",
       "2847  6bx8        1.98  2019     Ki   0.20   uM         =  1.000000e-05   \n",
       "2848  6dwf        1.94  2019     Ki   1.30   nM         =  1.000000e-08   \n",
       "\n",
       "           logM                   chains  number_of_chains  \n",
       "13   -12.886057              A,B,C,D,E,F                 6  \n",
       "25    -6.040959              A,B,C,D,E,F                 6  \n",
       "26    -5.096910              A,B,C,D,E,F                 6  \n",
       "28    -7.022276          A,B,C,D,E,F,G,H                 8  \n",
       "29   -11.698970              L,H,J,K,R,S                 6  \n",
       "...         ...                      ...               ...  \n",
       "2844  -8.853872            A,B,C,D,E,F,G                 7  \n",
       "2845  -9.000000                A,B,C,D,E                 5  \n",
       "2846  -8.698970  A,G,B,C,D,E,F,H,I,J,K,L                12  \n",
       "2847  -5.698970          A,B,C,D,E,F,G,H                 8  \n",
       "2848  -7.886057  A,G,B,C,D,E,F,H,I,J,K,L                12  \n",
       "\n",
       "[1117 rows x 11 columns]"
      ]
     },
     "execution_count": 24,
     "metadata": {},
     "output_type": "execute_result"
    }
   ],
   "source": [
    "data[data.number_of_chains > 4]"
   ]
  },
  {
   "cell_type": "code",
   "execution_count": 20,
   "id": "b33a2db8",
   "metadata": {},
   "outputs": [
    {
     "data": {
      "text/plain": [
       "<Structure id=1brs>"
      ]
     },
     "execution_count": 20,
     "metadata": {},
     "output_type": "execute_result"
    }
   ],
   "source": [
    "parser = PDBParser()\n",
    "\n",
    "structure_id = \"1brs\"\n",
    "filename = \"PP/1brs.ent.pdb\"\n",
    "structure = parser.get_structure(structure_id, filename)\n",
    "structure"
   ]
  },
  {
   "cell_type": "code",
   "execution_count": 46,
   "id": "a6a93f2e",
   "metadata": {},
   "outputs": [
    {
     "data": {
      "text/plain": [
       "(<Residue HOH het=W resseq=129 icode= >, 1101)"
      ]
     },
     "execution_count": 46,
     "metadata": {},
     "output_type": "execute_result"
    }
   ],
   "source": [
    "a = structure.get_residues()\n",
    "cnt = 0\n",
    "for el in a:\n",
    "    cnt += 1\n",
    "a[el]"
   ]
  },
  {
   "cell_type": "code",
   "execution_count": 42,
   "id": "b7a38869",
   "metadata": {},
   "outputs": [],
   "source": [
    "model = structure[0]\n",
    "chain = model['A']\n",
    "residue = chain[100]\n",
    "atom = residue[\"CA\"]"
   ]
  },
  {
   "cell_type": "code",
   "execution_count": 47,
   "id": "701708db",
   "metadata": {},
   "outputs": [
    {
     "data": {
      "text/plain": [
       "6"
      ]
     },
     "execution_count": 47,
     "metadata": {},
     "output_type": "execute_result"
    }
   ],
   "source": [
    "cnt = 0\n",
    "for chain in model:\n",
    "    cnt += 1\n",
    "cnt"
   ]
  },
  {
   "cell_type": "code",
   "execution_count": 49,
   "id": "771d0814",
   "metadata": {},
   "outputs": [
    {
     "data": {
      "text/plain": [
       "637"
      ]
     },
     "execution_count": 49,
     "metadata": {},
     "output_type": "execute_result"
    }
   ],
   "source": [
    "kd_data = data[(data['target'] == 'Kd') & (data['number_of_chains'] == 2)]\n",
    "len(kd_data)"
   ]
  },
  {
   "cell_type": "code",
   "execution_count": 71,
   "id": "6cac94a5",
   "metadata": {},
   "outputs": [
    {
     "name": "stderr",
     "output_type": "stream",
     "text": [
      "100%|█████████████████████████████████████████| 637/637 [01:11<00:00,  8.90it/s]\n"
     ]
    },
    {
     "data": {
      "text/html": [
       "<div>\n",
       "<style scoped>\n",
       "    .dataframe tbody tr th:only-of-type {\n",
       "        vertical-align: middle;\n",
       "    }\n",
       "\n",
       "    .dataframe tbody tr th {\n",
       "        vertical-align: top;\n",
       "    }\n",
       "\n",
       "    .dataframe thead th {\n",
       "        text-align: right;\n",
       "    }\n",
       "</style>\n",
       "<table border=\"1\" class=\"dataframe\">\n",
       "  <thead>\n",
       "    <tr style=\"text-align: right;\">\n",
       "      <th></th>\n",
       "      <th>0</th>\n",
       "      <th>1</th>\n",
       "    </tr>\n",
       "  </thead>\n",
       "  <tbody>\n",
       "    <tr>\n",
       "      <th>0</th>\n",
       "      <td>4335</td>\n",
       "      <td>1281</td>\n",
       "    </tr>\n",
       "    <tr>\n",
       "      <th>1</th>\n",
       "      <td>5202</td>\n",
       "      <td>1494</td>\n",
       "    </tr>\n",
       "    <tr>\n",
       "      <th>2</th>\n",
       "      <td>5256</td>\n",
       "      <td>1467</td>\n",
       "    </tr>\n",
       "    <tr>\n",
       "      <th>3</th>\n",
       "      <td>6189</td>\n",
       "      <td>1674</td>\n",
       "    </tr>\n",
       "    <tr>\n",
       "      <th>4</th>\n",
       "      <td>3603</td>\n",
       "      <td>11352</td>\n",
       "    </tr>\n",
       "    <tr>\n",
       "      <th>...</th>\n",
       "      <td>...</td>\n",
       "      <td>...</td>\n",
       "    </tr>\n",
       "    <tr>\n",
       "      <th>632</th>\n",
       "      <td>2175</td>\n",
       "      <td>12429</td>\n",
       "    </tr>\n",
       "    <tr>\n",
       "      <th>633</th>\n",
       "      <td>1104</td>\n",
       "      <td>1113</td>\n",
       "    </tr>\n",
       "    <tr>\n",
       "      <th>634</th>\n",
       "      <td>2340</td>\n",
       "      <td>540</td>\n",
       "    </tr>\n",
       "    <tr>\n",
       "      <th>635</th>\n",
       "      <td>5286</td>\n",
       "      <td>1293</td>\n",
       "    </tr>\n",
       "    <tr>\n",
       "      <th>636</th>\n",
       "      <td>12480</td>\n",
       "      <td>543</td>\n",
       "    </tr>\n",
       "  </tbody>\n",
       "</table>\n",
       "<p>637 rows × 2 columns</p>\n",
       "</div>"
      ],
      "text/plain": [
       "         0      1\n",
       "0     4335   1281\n",
       "1     5202   1494\n",
       "2     5256   1467\n",
       "3     6189   1674\n",
       "4     3603  11352\n",
       "..     ...    ...\n",
       "632   2175  12429\n",
       "633   1104   1113\n",
       "634   2340    540\n",
       "635   5286   1293\n",
       "636  12480    543\n",
       "\n",
       "[637 rows x 2 columns]"
      ]
     },
     "execution_count": 71,
     "metadata": {},
     "output_type": "execute_result"
    }
   ],
   "source": [
    "df = []\n",
    "for i in tqdm(range(len(kd_data))):\n",
    "    row = kd_data.iloc[i].copy()\n",
    "    name = row['pdb']\n",
    "    path = f'PP/{name}.ent.pdb'\n",
    "    structure = parser.get_structure(structure_id, path)\n",
    "    cur = []\n",
    "    for chain in structure[0]:\n",
    "        cnt = 0\n",
    "        for residue in chain:\n",
    "            for atom in residue:\n",
    "                cnt += 3\n",
    "        cur.append(cnt)\n",
    "    df.append(cur)\n",
    "df = pd.DataFrame(df)\n",
    "df"
   ]
  },
  {
   "cell_type": "code",
   "execution_count": 91,
   "id": "678f0274",
   "metadata": {},
   "outputs": [
    {
     "data": {
      "text/html": [
       "<div>\n",
       "<style scoped>\n",
       "    .dataframe tbody tr th:only-of-type {\n",
       "        vertical-align: middle;\n",
       "    }\n",
       "\n",
       "    .dataframe tbody tr th {\n",
       "        vertical-align: top;\n",
       "    }\n",
       "\n",
       "    .dataframe thead th {\n",
       "        text-align: right;\n",
       "    }\n",
       "</style>\n",
       "<table border=\"1\" class=\"dataframe\">\n",
       "  <thead>\n",
       "    <tr style=\"text-align: right;\">\n",
       "      <th></th>\n",
       "      <th>0</th>\n",
       "      <th>1</th>\n",
       "      <th>target</th>\n",
       "    </tr>\n",
       "  </thead>\n",
       "  <tbody>\n",
       "    <tr>\n",
       "      <th>0</th>\n",
       "      <td>4335</td>\n",
       "      <td>1281</td>\n",
       "      <td>-9.747147</td>\n",
       "    </tr>\n",
       "    <tr>\n",
       "      <th>1</th>\n",
       "      <td>5202</td>\n",
       "      <td>1494</td>\n",
       "      <td>-4.619789</td>\n",
       "    </tr>\n",
       "    <tr>\n",
       "      <th>2</th>\n",
       "      <td>5256</td>\n",
       "      <td>1467</td>\n",
       "      <td>-12.221849</td>\n",
       "    </tr>\n",
       "    <tr>\n",
       "      <th>3</th>\n",
       "      <td>6189</td>\n",
       "      <td>1674</td>\n",
       "      <td>-10.698970</td>\n",
       "    </tr>\n",
       "    <tr>\n",
       "      <th>4</th>\n",
       "      <td>3603</td>\n",
       "      <td>11352</td>\n",
       "      <td>-5.744727</td>\n",
       "    </tr>\n",
       "    <tr>\n",
       "      <th>...</th>\n",
       "      <td>...</td>\n",
       "      <td>...</td>\n",
       "      <td>...</td>\n",
       "    </tr>\n",
       "    <tr>\n",
       "      <th>632</th>\n",
       "      <td>2175</td>\n",
       "      <td>12429</td>\n",
       "      <td>-6.244125</td>\n",
       "    </tr>\n",
       "    <tr>\n",
       "      <th>633</th>\n",
       "      <td>1104</td>\n",
       "      <td>1113</td>\n",
       "      <td>-4.161151</td>\n",
       "    </tr>\n",
       "    <tr>\n",
       "      <th>634</th>\n",
       "      <td>2340</td>\n",
       "      <td>540</td>\n",
       "      <td>-7.086186</td>\n",
       "    </tr>\n",
       "    <tr>\n",
       "      <th>635</th>\n",
       "      <td>5286</td>\n",
       "      <td>1293</td>\n",
       "      <td>-10.050122</td>\n",
       "    </tr>\n",
       "    <tr>\n",
       "      <th>636</th>\n",
       "      <td>12480</td>\n",
       "      <td>543</td>\n",
       "      <td>-6.067019</td>\n",
       "    </tr>\n",
       "  </tbody>\n",
       "</table>\n",
       "<p>637 rows × 3 columns</p>\n",
       "</div>"
      ],
      "text/plain": [
       "         0      1     target\n",
       "0     4335   1281  -9.747147\n",
       "1     5202   1494  -4.619789\n",
       "2     5256   1467 -12.221849\n",
       "3     6189   1674 -10.698970\n",
       "4     3603  11352  -5.744727\n",
       "..     ...    ...        ...\n",
       "632   2175  12429  -6.244125\n",
       "633   1104   1113  -4.161151\n",
       "634   2340    540  -7.086186\n",
       "635   5286   1293 -10.050122\n",
       "636  12480    543  -6.067019\n",
       "\n",
       "[637 rows x 3 columns]"
      ]
     },
     "execution_count": 91,
     "metadata": {},
     "output_type": "execute_result"
    }
   ],
   "source": [
    "df['target'] = list(kd_data['logM'])\n",
    "df"
   ]
  },
  {
   "cell_type": "code",
   "execution_count": 95,
   "id": "8048afe2",
   "metadata": {},
   "outputs": [
    {
     "data": {
      "text/plain": [
       "<catboost.core.CatBoostRegressor at 0x7fbae5866460>"
      ]
     },
     "execution_count": 95,
     "metadata": {},
     "output_type": "execute_result"
    }
   ],
   "source": [
    "cb = CatBoostRegressor()\n",
    "sz = len(df) * 3 // 4\n",
    "cb.fit(df[[0, 1]].iloc[:-sz], df['target'].iloc[:-sz], verbose=False)"
   ]
  },
  {
   "cell_type": "code",
   "execution_count": 96,
   "id": "1a4f2562",
   "metadata": {},
   "outputs": [],
   "source": [
    "pred = cb.predict(df[[0, 1]].iloc[-sz:])"
   ]
  },
  {
   "cell_type": "code",
   "execution_count": 97,
   "id": "20a93cac",
   "metadata": {},
   "outputs": [
    {
     "data": {
      "text/plain": [
       "4.801064017287472"
      ]
     },
     "execution_count": 97,
     "metadata": {},
     "output_type": "execute_result"
    }
   ],
   "source": [
    "from sklearn.metrics import mean_squared_error as MSE\n",
    "MSE(df['target'].iloc[-sz:], pred)"
   ]
  },
  {
   "cell_type": "code",
   "execution_count": 100,
   "id": "04cf486f",
   "metadata": {},
   "outputs": [],
   "source": [
    "plt.rcParams['font.family'] = 'DejaVu Serif'\n",
    "plt.rcParams['lines.linewidth'] = 2\n",
    "plt.rcParams['lines.markersize'] = 12\n",
    "plt.rcParams['xtick.labelsize'] = 24\n",
    "plt.rcParams['ytick.labelsize'] = 24\n",
    "plt.rcParams['legend.fontsize'] = 24\n",
    "plt.rcParams['axes.titlesize'] = 36\n",
    "plt.rcParams['axes.labelsize'] = 24"
   ]
  },
  {
   "cell_type": "code",
   "execution_count": 111,
   "id": "bc7ffec8",
   "metadata": {},
   "outputs": [
    {
     "data": {
      "image/png": "[encoded data removed]",
      "text/plain": [
       "<Figure size 1080x648 with 1 Axes>"
      ]
     },
     "metadata": {
      "needs_background": "light"
     },
     "output_type": "display_data"
    }
   ],
   "source": [
    "plt.figure(figsize=(15, 9))\n",
    "grid = np.arange(len(pred))\n",
    "plt.plot(grid, df['target'].iloc[-sz:], label='True Value')\n",
    "plt.plot(grid, pred, label='Prediction')\n",
    "plt.xlabel('Complex id')\n",
    "plt.ylabel('Affinity')\n",
    "plt.legend()\n",
    "plt.savefig('pred.png')\n",
    "plt.show()"
   ]
  },
  {
   "cell_type": "code",
   "execution_count": 110,
   "id": "629c4d48",
   "metadata": {},
   "outputs": [
    {
     "data": {
      "image/png": "[encoded data removed]",
      "text/plain": [
       "<Figure size 1080x648 with 1 Axes>"
      ]
     },
     "metadata": {
      "needs_background": "light"
     },
     "output_type": "display_data"
    }
   ],
   "source": [
    "plt.figure(figsize=(15, 9))\n",
    "err = abs(df['target'].iloc[-sz:] - pred) / df['target'].iloc[-sz:]\n",
    "grid = np.arange(len(pred))\n",
    "plt.plot(grid, err, label='Relative Error')\n",
    "plt.xlabel('Complex id')\n",
    "plt.ylabel('Error value')\n",
    "plt.ylim(-2, 2)\n",
    "plt.legend()\n",
    "plt.savefig('error.png')\n",
    "plt.show()"
   ]
  },
  {
   "cell_type": "code",
   "execution_count": 113,
   "id": "955ffb31",
   "metadata": {},
   "outputs": [
    {
     "data": {
      "text/plain": [
       "4.801064017287472"
      ]
     },
     "execution_count": 113,
     "metadata": {},
     "output_type": "execute_result"
    }
   ],
   "source": [
    "MSE(pred, df['target'].iloc[-sz:])"
   ]
  },
  {
   "cell_type": "code",
   "execution_count": 122,
   "id": "e460cea8",
   "metadata": {},
   "outputs": [],
   "source": [
    "df = df.rename({0: 'first_protein_size', 1: 'second_protein_size'}, axis=1)\n",
    "df.index = np.arange(1, len(df)+1)\n",
    "df.to_csv('synthetic.csv')"
   ]
  }
 ],
 "metadata": {
  "kernelspec": {
   "display_name": "Python 3 (ipykernel)",
   "language": "python",
   "name": "python3"
  },
  "language_info": {
   "codemirror_mode": {
    "name": "ipython",
    "version": 3
   },
   "file_extension": ".py",
   "mimetype": "text/x-python",
   "name": "python",
   "nbconvert_exporter": "python",
   "pygments_lexer": "ipython3",
   "version": "3.9.7"
  }
 },
 "nbformat": 4,
 "nbformat_minor": 5
}
